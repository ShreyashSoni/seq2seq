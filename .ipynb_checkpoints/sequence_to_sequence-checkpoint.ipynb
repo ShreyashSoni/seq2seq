{
 "cells": [
  {
   "cell_type": "code",
   "execution_count": 2,
   "metadata": {
    "collapsed": true
   },
   "outputs": [],
   "source": [
    "import numpy as np\n",
    "import time\n",
    "\n",
    "import helper\n",
    "\n",
    "source_path = 'data/letters_source.txt'\n",
    "target_path = 'data/letters_target.txt'\n",
    "\n",
    "source_sentences = helper.load_data(source_path)\n",
    "target_sentences = helper.load_data(target_path)"
   ]
  },
  {
   "cell_type": "code",
   "execution_count": 3,
   "metadata": {},
   "outputs": [
    {
     "data": {
      "text/plain": [
       "['bsaqq',\n",
       " 'npy',\n",
       " 'lbwuj',\n",
       " 'bqv',\n",
       " 'kial',\n",
       " 'tddam',\n",
       " 'edxpjpg',\n",
       " 'nspv',\n",
       " 'huloz',\n",
       " '']"
      ]
     },
     "execution_count": 3,
     "metadata": {},
     "output_type": "execute_result"
    }
   ],
   "source": [
    "source_sentences[:50].split('\\n')"
   ]
  },
  {
   "cell_type": "code",
   "execution_count": 4,
   "metadata": {},
   "outputs": [
    {
     "data": {
      "text/plain": [
       "['abqqs',\n",
       " 'npy',\n",
       " 'bjluw',\n",
       " 'bqv',\n",
       " 'aikl',\n",
       " 'addmt',\n",
       " 'degjppx',\n",
       " 'npsv',\n",
       " 'hlouz',\n",
       " '']"
      ]
     },
     "execution_count": 4,
     "metadata": {},
     "output_type": "execute_result"
    }
   ],
   "source": [
    "target_sentences[:50].split('\\n')"
   ]
  },
  {
   "cell_type": "code",
   "execution_count": 5,
   "metadata": {},
   "outputs": [
    {
     "name": "stdout",
     "output_type": "stream",
     "text": [
      "Example source sequence\n",
      "[[22, 10, 11, 28, 28], [18, 27, 25], [4, 22, 29, 23, 13]]\n",
      "\n",
      "\n",
      "Example target sequence\n",
      "[[11, 22, 28, 28, 10, 3], [18, 27, 25, 3], [22, 13, 4, 23, 29, 3]]\n"
     ]
    }
   ],
   "source": [
    "# turn the each string into a list of characters\n",
    "#then convert the characters to their int values as declared in our vocabulary\n",
    "\n",
    "def extract_character_vocab(data):\n",
    "    special_words = ['<PAD>', '<UNK>', '<GO>', '<EOS>']\n",
    "    \n",
    "    set_words = set([character for line in data.split('\\n') for character in line])\n",
    "    int_to_vocab = {word_i: word for word_i, word in enumerate(special_words + list(set_words))}\n",
    "    vocab_to_int = {word: word_i for word_i, word in int_to_vocab.items()}\n",
    "    \n",
    "    return int_to_vocab, vocab_to_int\n",
    "\n",
    "# buils int2letter and letter2int dicts\n",
    "source_int_to_letter, source_letter_to_int = extract_character_vocab(source_sentences)\n",
    "target_int_to_letter, target_letter_to_int = extract_character_vocab(target_sentences)\n",
    "\n",
    "# convert character to ids\n",
    "source_letter_ids = [[source_letter_to_int.get(letter, source_letter_to_int['<UNK>']) for letter in line] for line in source_sentences.split('\\n')]\n",
    "target_letter_ids = [[target_letter_to_int.get(letter, target_letter_to_int['<UNK>']) for letter in line] + [target_letter_to_int['<EOS>']] for line in target_sentences.split('\\n')]\n",
    "\n",
    "print('Example source sequence')\n",
    "print(source_letter_ids[:3])\n",
    "print('\\n')\n",
    "print('Example target sequence')\n",
    "print(target_letter_ids[:3])"
   ]
  },
  {
   "cell_type": "code",
   "execution_count": 6,
   "metadata": {},
   "outputs": [
    {
     "name": "stdout",
     "output_type": "stream",
     "text": [
      "Tensorflow Version: 1.1.0\n"
     ]
    }
   ],
   "source": [
    "from distutils.version import LooseVersion\n",
    "import tensorflow as tf\n",
    "from tensorflow.python.layers.core import Dense\n",
    "\n",
    "# check the tensorflow version\n",
    "assert LooseVersion(tf.__version__) >= LooseVersion('1.1'), 'Please use Tensorflow version 1.1 or newer'\n",
    "print('Tensorflow Version: {}'.format(tf.__version__))"
   ]
  },
  {
   "cell_type": "code",
   "execution_count": 7,
   "metadata": {
    "collapsed": true
   },
   "outputs": [],
   "source": [
    "# number of epochs\n",
    "epochs = 60\n",
    "# batch size\n",
    "batch_size = 128\n",
    "# RNN size\n",
    "rnn_size = 50\n",
    "# Number of Layer\n",
    "num_layers = 2\n",
    "# Embedding size\n",
    "encoding_embedding_size = 15\n",
    "decoding_embedding_size = 15\n",
    "# Learning rate\n",
    "learning_rate = 0.001"
   ]
  },
  {
   "cell_type": "code",
   "execution_count": 8,
   "metadata": {
    "collapsed": true
   },
   "outputs": [],
   "source": [
    "def get_model_input():\n",
    "    input_data = tf.placeholder(tf.int32, [None, None], name='input')\n",
    "    targets = tf.placeholder(tf.int32, [None, None], name='targets')\n",
    "    lr = tf.placeholder(tf.float32, name='learning_rate')\n",
    "    \n",
    "    target_sequence_length = tf.placeholder(tf.int32, (None,), name='target_sequence_length')\n",
    "    max_target_sequence_length = tf.reduce_max(target_sequence_length, name='max_target_len')\n",
    "    source_sequence_length = tf.placeholder(tf.int32, (None,), name='source_sequence_length')\n",
    "    \n",
    "    return input_data, targets, lr, target_sequence_length, max_target_sequence_length, source_sequence_length"
   ]
  },
  {
   "cell_type": "code",
   "execution_count": 9,
   "metadata": {
    "collapsed": true
   },
   "outputs": [],
   "source": [
    "def encoding_layer(input_data, rnn_size, num_layers, source_sequence_length, \n",
    "                  source_vocab_size, encoding_embedding_size):\n",
    "    \n",
    "    # Encoder embedding\n",
    "    enc_embed_input = tf.contrib.layers.embed_sequence(input_data, source_vocab_size, encoding_embedding_size)\n",
    "    \n",
    "    # RNN cell\n",
    "    def make_cell(rnn_size):\n",
    "        enc_cell = tf.contrib.rnn.LSTMCell(rnn_size, initializer=tf.random_uniform_initializer(-0.1, 0.1, seed=2))\n",
    "        return enc_cell\n",
    "    \n",
    "    enc_cell = tf.contrib.rnn.MultiRNNCell([make_cell(rnn_size) for _ in range(num_layers)])\n",
    "    \n",
    "    enc_output, enc_state = tf.nn.dynamic_rnn(enc_cell, enc_embed_input, sequence_length=source_sequence_length, dtype=tf.float32)\n",
    "    \n",
    "    return enc_output, enc_state"
   ]
  },
  {
   "cell_type": "code",
   "execution_count": 10,
   "metadata": {
    "collapsed": true
   },
   "outputs": [],
   "source": [
    "# Process the input to feed to the decoder\n",
    "def process_decoder_input(target_data, vocab_to_int, batch_size):\n",
    "    # remove the last word id from each batch and concat the <GO> to the beginning of each batch\n",
    "    ending = tf.strided_slice(target_data, [0, 0], [batch_size, -1], [1, 1])\n",
    "    dec_input = tf.concat([tf.fill([batch_size, 1], vocab_to_int['<GO>']), ending], 1)\n",
    "    return dec_input"
   ]
  },
  {
   "cell_type": "code",
   "execution_count": 14,
   "metadata": {
    "collapsed": true
   },
   "outputs": [],
   "source": [
    "def decoding_layer(target_letter_to_int, decoding_embedding_size, num_layers, rnn_size,\n",
    "                  target_sequence_length, max_target_sequence_length, enc_state, dec_input):\n",
    "    \n",
    "    #decoder embedding\n",
    "    target_vocab_size = len(target_letter_to_int)\n",
    "    dec_embeddings = tf.Variable(tf.random_uniform([target_vocab_size, decoding_embedding_size]))\n",
    "    dec_embed_input = tf.nn.embedding_lookup(dec_embeddings, dec_input)\n",
    "    \n",
    "    #construct the decoder cell\n",
    "    def make_cell(rnn_size):\n",
    "        dec_cell = tf.contrib.rnn.LSTMCell(rnn_size, initializer=tf.random_uniform_initializer(-0.1, 0.1, seed=2))\n",
    "        \n",
    "        return dec_cell\n",
    "    \n",
    "    dec_cell = tf.contrib.rnn.MultiRNNCell([make_cell(rnn_size) for _ in range(num_layers)])\n",
    "    \n",
    "    #dense layer to translate the decoder's output at each time step\n",
    "    output_layer = Dense(target_vocab_size, kernel_initializer=tf.truncated_normal_initializer(mean = 0.0, stddev=0.1))\n",
    "    \n",
    "    #training decoder\n",
    "    with tf.variable_scope('decode'):\n",
    "        #helper for training process. used by basic decoder to read inputs\n",
    "        training_helper = tf.contrib.seq2seq.TrainingHelper(inputs=dec_embed_input, sequence_length=target_sequence_length, time_major=False)\n",
    "        \n",
    "        #basic decoder\n",
    "        training_decoder = tf.contrib.seq2seq.BasicDecoder(dec_cell, training_helper, enc_state, output_layer)\n",
    "        \n",
    "        #perform dynamic decoding using the decoder\n",
    "        training_decoder_output, _ = tf.contrib.seq2seq.dynamic_decode(training_decoder, impute_finished=True, maximum_iterations=max_target_sequence_length)\n",
    "        \n",
    "        #inference decoder\n",
    "        #reuse the same parameters trained by the training process\n",
    "    with tf.variable_scope('decode', reuse=True):\n",
    "        start_tokens = tf.tile(tf.constant([target_letter_to_int['<GO>']], dtype=tf.int32), [batch_size], name='start_tokens')\n",
    "            \n",
    "        #helper for the inference process\n",
    "        inference_helper = tf.contrib.seq2seq.GreedyEmbeddingHelper(dec_embeddings, start_tokens, target_letter_to_int['<EOS>'])\n",
    "            \n",
    "        #basic decoder\n",
    "        inference_decoder = tf.contrib.seq2seq.BasicDecoder(dec_cell, inference_helper, enc_state, output_layer)\n",
    "            \n",
    "        #perform dynamic decodingusing decoder\n",
    "        inference_decoder_output, _ = tf.contrib.seq2seq.dynamic_decode(inference_decoder, impute_finished=True, maximum_iterations=max_target_sequence_length)\n",
    "            \n",
    "    return training_decoder_output, inference_decoder_output"
   ]
  },
  {
   "cell_type": "code",
   "execution_count": 15,
   "metadata": {
    "collapsed": true
   },
   "outputs": [],
   "source": [
    "def seq2seq_model(input_data, targets, lr, target_sequence_length, max_target_sequence_length,\n",
    "                 source_sequence_length, source_vocab_size, target_vocab_size, enc_embedding_size,\n",
    "                 dec_embedding_size, rnn_size, num_layers):\n",
    "    \n",
    "    #pass the input data through the encoder.\n",
    "    #we'll ignore the encoder output.\n",
    "    _, enc_state = encoding_layer(input_data, rnn_size, num_layers,\n",
    "                                  source_sequence_length, source_vocab_size,\n",
    "                                 encoding_embedding_size)\n",
    "    \n",
    "    #prepare the target sequences to feed to the decoder in training mode\n",
    "    dec_input = process_decoder_input(targets, target_letter_to_int, batch_size)\n",
    "    \n",
    "    #pass encoder state and decoder inputs to the decoders\n",
    "    training_decoder_output, inference_decoder_output = decoding_layer(target_letter_to_int, decoding_embedding_size, \n",
    "                                                                      num_layers, rnn_size, target_sequence_length, \n",
    "                                                                      max_target_sequence_length, enc_state, dec_input)\n",
    "    \n",
    "    return training_decoder_output, inference_decoder_output"
   ]
  },
  {
   "cell_type": "code",
   "execution_count": 16,
   "metadata": {},
   "outputs": [],
   "source": [
    "# build the graph\n",
    "train_graph = tf.Graph()\n",
    "#set the graph to default to ensure it is ready fot training.\n",
    "with train_graph.as_default():\n",
    "    #load model inputs\n",
    "    input_data, targets, lr, target_sequence_length, max_target_sequence_length, source_sequence_length = get_model_input()\n",
    "    \n",
    "    # create the training and inference logits\n",
    "    training_decoder_output, inference_decoder_output = seq2seq_model(input_data, targets, lr, target_sequence_length, \n",
    "                                                                     max_target_sequence_length, \n",
    "                                                                     source_sequence_length, \n",
    "                                                                     len(source_letter_to_int), \n",
    "                                                                     len(target_letter_to_int), \n",
    "                                                                     encoding_embedding_size, \n",
    "                                                                     decoding_embedding_size, \n",
    "                                                                     rnn_size, num_layers)\n",
    "    \n",
    "    #create tensors for the training logits and inference logits\n",
    "    training_logits = tf.identity(training_decoder_output.rnn_output, 'logits')\n",
    "    inference_logits = tf.identity(inference_decoder_output.sample_id, name='predictions')\n",
    "    \n",
    "    # create the weights for sequence_loss\n",
    "    masks = tf.sequence_mask(target_sequence_length, max_target_sequence_length, dtype=tf.float32, name='masks')\n",
    "    \n",
    "    with tf.name_scope('optimization'):\n",
    "        \n",
    "        # loss function\n",
    "        cost = tf.contrib.seq2seq.sequence_loss(\n",
    "        training_logits, \n",
    "        targets, \n",
    "        masks)\n",
    "        \n",
    "        # optimizer\n",
    "        optimizer = tf.train.AdamOptimizer(lr)\n",
    "        \n",
    "        # gradient clipping\n",
    "        gradients = optimizer.compute_gradients(cost)\n",
    "        capped_gradients = [(tf.clip_by_value(grad, -5., 5.), var) for grad, var in gradients if grad is not None]\n",
    "        train_op = optimizer.apply_gradients(capped_gradients)"
   ]
  },
  {
   "cell_type": "code",
   "execution_count": 17,
   "metadata": {
    "collapsed": true
   },
   "outputs": [],
   "source": [
    "def pad_sentence_batch(sentence_batch, pad_int):\n",
    "    #pad sentences with <PAD> so that all the sentences are of equal length\n",
    "    max_sentence = max([len(sentence) for sentence in sentence_batch])\n",
    "    return [sentence + [pad_int] * (max_sentence - len(sentence)) for sentence in sentence_batch]"
   ]
  },
  {
   "cell_type": "code",
   "execution_count": 18,
   "metadata": {
    "collapsed": true
   },
   "outputs": [],
   "source": [
    "def get_batches(targets, sources, batch_size, source_pad_int, target_pad_int):\n",
    "    #batch targets, sources and lengths of their sentences together\n",
    "    for batch_i in range(0, len(sources) // batch_size):\n",
    "        start_i = batch_i * batch_size\n",
    "        sources_batch = sources[start_i:start_i+batch_size]\n",
    "        targets_batch = targets[start_i:start_i+batch_size]\n",
    "        pad_sources_batch = np.array(pad_sentence_batch(sources_batch, source_pad_int))\n",
    "        pad_targets_batch = np.array(pad_sentence_batch(targets_batch, target_pad_int))\n",
    "        \n",
    "        #need the lengths for the _lengths parameters\n",
    "        pad_targets_lengths = []\n",
    "        for target in pad_targets_batch:\n",
    "            pad_targets_lengths.append(len(target))\n",
    "            \n",
    "        pad_source_lengths = []\n",
    "        for source in pad_sources_batch:\n",
    "            pad_source_lengths.append(len(source))\n",
    "            \n",
    "        yield pad_targets_batch, pad_sources_batch, pad_targets_lengths, pad_source_lengths"
   ]
  },
  {
   "cell_type": "code",
   "execution_count": 23,
   "metadata": {},
   "outputs": [
    {
     "name": "stdout",
     "output_type": "stream",
     "text": [
      "Epoch   1/60 Batch   20/77 - Loss:  2.362 - Validation Loss:  2.408\n",
      "Epoch   1/60 Batch   40/77 - Loss:  2.292 - Validation Loss:  2.254\n",
      "Epoch   1/60 Batch   60/77 - Loss:  1.977 - Validation Loss:  2.021\n",
      "Epoch   2/60 Batch   20/77 - Loss:  1.679 - Validation Loss:  1.758\n",
      "Epoch   2/60 Batch   40/77 - Loss:  1.669 - Validation Loss:  1.633\n",
      "Epoch   2/60 Batch   60/77 - Loss:  1.494 - Validation Loss:  1.530\n",
      "Epoch   3/60 Batch   20/77 - Loss:  1.362 - Validation Loss:  1.431\n",
      "Epoch   3/60 Batch   40/77 - Loss:  1.427 - Validation Loss:  1.393\n",
      "Epoch   3/60 Batch   60/77 - Loss:  1.283 - Validation Loss:  1.334\n",
      "Epoch   4/60 Batch   20/77 - Loss:  1.185 - Validation Loss:  1.247\n",
      "Epoch   4/60 Batch   40/77 - Loss:  1.247 - Validation Loss:  1.214\n",
      "Epoch   4/60 Batch   60/77 - Loss:  1.134 - Validation Loss:  1.178\n",
      "Epoch   5/60 Batch   20/77 - Loss:  1.082 - Validation Loss:  1.119\n",
      "Epoch   5/60 Batch   40/77 - Loss:  1.131 - Validation Loss:  1.088\n",
      "Epoch   5/60 Batch   60/77 - Loss:  1.021 - Validation Loss:  1.053\n",
      "Epoch   6/60 Batch   20/77 - Loss:  0.961 - Validation Loss:  0.994\n",
      "Epoch   6/60 Batch   40/77 - Loss:  1.009 - Validation Loss:  0.969\n",
      "Epoch   6/60 Batch   60/77 - Loss:  0.913 - Validation Loss:  0.936\n",
      "Epoch   7/60 Batch   20/77 - Loss:  0.837 - Validation Loss:  0.881\n",
      "Epoch   7/60 Batch   40/77 - Loss:  0.887 - Validation Loss:  0.865\n",
      "Epoch   7/60 Batch   60/77 - Loss:  0.817 - Validation Loss:  0.841\n",
      "Epoch   8/60 Batch   20/77 - Loss:  0.746 - Validation Loss:  0.801\n",
      "Epoch   8/60 Batch   40/77 - Loss:  0.801 - Validation Loss:  0.784\n",
      "Epoch   8/60 Batch   60/77 - Loss:  0.737 - Validation Loss:  0.761\n",
      "Epoch   9/60 Batch   20/77 - Loss:  0.665 - Validation Loss:  0.729\n",
      "Epoch   9/60 Batch   40/77 - Loss:  0.720 - Validation Loss:  0.706\n",
      "Epoch   9/60 Batch   60/77 - Loss:  0.667 - Validation Loss:  0.682\n",
      "Epoch  10/60 Batch   20/77 - Loss:  0.584 - Validation Loss:  0.644\n",
      "Epoch  10/60 Batch   40/77 - Loss:  0.639 - Validation Loss:  0.626\n",
      "Epoch  10/60 Batch   60/77 - Loss:  0.585 - Validation Loss:  0.600\n",
      "Epoch  11/60 Batch   20/77 - Loss:  0.501 - Validation Loss:  0.560\n",
      "Epoch  11/60 Batch   40/77 - Loss:  0.565 - Validation Loss:  0.543\n",
      "Epoch  11/60 Batch   60/77 - Loss:  0.506 - Validation Loss:  0.519\n",
      "Epoch  12/60 Batch   20/77 - Loss:  0.433 - Validation Loss:  0.488\n",
      "Epoch  12/60 Batch   40/77 - Loss:  0.493 - Validation Loss:  0.470\n",
      "Epoch  12/60 Batch   60/77 - Loss:  0.445 - Validation Loss:  0.449\n",
      "Epoch  13/60 Batch   20/77 - Loss:  0.374 - Validation Loss:  0.422\n",
      "Epoch  13/60 Batch   40/77 - Loss:  0.429 - Validation Loss:  0.412\n",
      "Epoch  13/60 Batch   60/77 - Loss:  0.393 - Validation Loss:  0.395\n",
      "Epoch  14/60 Batch   20/77 - Loss:  0.325 - Validation Loss:  0.378\n",
      "Epoch  14/60 Batch   40/77 - Loss:  0.378 - Validation Loss:  0.371\n",
      "Epoch  14/60 Batch   60/77 - Loss:  0.349 - Validation Loss:  0.355\n",
      "Epoch  15/60 Batch   20/77 - Loss:  0.288 - Validation Loss:  0.344\n",
      "Epoch  15/60 Batch   40/77 - Loss:  0.369 - Validation Loss:  0.331\n",
      "Epoch  15/60 Batch   60/77 - Loss:  0.317 - Validation Loss:  0.335\n",
      "Epoch  16/60 Batch   20/77 - Loss:  0.257 - Validation Loss:  0.308\n",
      "Epoch  16/60 Batch   40/77 - Loss:  0.299 - Validation Loss:  0.294\n",
      "Epoch  16/60 Batch   60/77 - Loss:  0.278 - Validation Loss:  0.291\n",
      "Epoch  17/60 Batch   20/77 - Loss:  0.236 - Validation Loss:  0.283\n",
      "Epoch  17/60 Batch   40/77 - Loss:  0.266 - Validation Loss:  0.262\n",
      "Epoch  17/60 Batch   60/77 - Loss:  0.250 - Validation Loss:  0.259\n",
      "Epoch  18/60 Batch   20/77 - Loss:  0.205 - Validation Loss:  0.253\n",
      "Epoch  18/60 Batch   40/77 - Loss:  0.237 - Validation Loss:  0.238\n",
      "Epoch  18/60 Batch   60/77 - Loss:  0.224 - Validation Loss:  0.233\n",
      "Epoch  19/60 Batch   20/77 - Loss:  0.180 - Validation Loss:  0.223\n",
      "Epoch  19/60 Batch   40/77 - Loss:  0.211 - Validation Loss:  0.213\n",
      "Epoch  19/60 Batch   60/77 - Loss:  0.201 - Validation Loss:  0.208\n",
      "Epoch  20/60 Batch   20/77 - Loss:  0.158 - Validation Loss:  0.201\n",
      "Epoch  20/60 Batch   40/77 - Loss:  0.187 - Validation Loss:  0.192\n",
      "Epoch  20/60 Batch   60/77 - Loss:  0.183 - Validation Loss:  0.188\n",
      "Epoch  21/60 Batch   20/77 - Loss:  0.137 - Validation Loss:  0.180\n",
      "Epoch  21/60 Batch   40/77 - Loss:  0.172 - Validation Loss:  0.173\n",
      "Epoch  21/60 Batch   60/77 - Loss:  0.160 - Validation Loss:  0.183\n",
      "Epoch  22/60 Batch   20/77 - Loss:  0.124 - Validation Loss:  0.166\n",
      "Epoch  22/60 Batch   40/77 - Loss:  0.150 - Validation Loss:  0.160\n",
      "Epoch  22/60 Batch   60/77 - Loss:  0.141 - Validation Loss:  0.146\n",
      "Epoch  23/60 Batch   20/77 - Loss:  0.107 - Validation Loss:  0.147\n",
      "Epoch  23/60 Batch   40/77 - Loss:  0.132 - Validation Loss:  0.138\n",
      "Epoch  23/60 Batch   60/77 - Loss:  0.128 - Validation Loss:  0.137\n",
      "Epoch  24/60 Batch   20/77 - Loss:  0.092 - Validation Loss:  0.127\n",
      "Epoch  24/60 Batch   40/77 - Loss:  0.116 - Validation Loss:  0.125\n",
      "Epoch  24/60 Batch   60/77 - Loss:  0.115 - Validation Loss:  0.117\n",
      "Epoch  25/60 Batch   20/77 - Loss:  0.081 - Validation Loss:  0.114\n",
      "Epoch  25/60 Batch   40/77 - Loss:  0.102 - Validation Loss:  0.111\n",
      "Epoch  25/60 Batch   60/77 - Loss:  0.102 - Validation Loss:  0.105\n",
      "Epoch  26/60 Batch   20/77 - Loss:  0.071 - Validation Loss:  0.102\n",
      "Epoch  26/60 Batch   40/77 - Loss:  0.091 - Validation Loss:  0.099\n",
      "Epoch  26/60 Batch   60/77 - Loss:  0.092 - Validation Loss:  0.095\n",
      "Epoch  27/60 Batch   20/77 - Loss:  0.063 - Validation Loss:  0.090\n",
      "Epoch  27/60 Batch   40/77 - Loss:  0.083 - Validation Loss:  0.085\n",
      "Epoch  27/60 Batch   60/77 - Loss:  0.085 - Validation Loss:  0.095\n",
      "Epoch  28/60 Batch   20/77 - Loss:  0.056 - Validation Loss:  0.087\n",
      "Epoch  28/60 Batch   40/77 - Loss:  0.074 - Validation Loss:  0.079\n",
      "Epoch  28/60 Batch   60/77 - Loss:  0.075 - Validation Loss:  0.077\n",
      "Epoch  29/60 Batch   20/77 - Loss:  0.050 - Validation Loss:  0.076\n",
      "Epoch  29/60 Batch   40/77 - Loss:  0.067 - Validation Loss:  0.069\n",
      "Epoch  29/60 Batch   60/77 - Loss:  0.071 - Validation Loss:  0.073\n",
      "Epoch  30/60 Batch   20/77 - Loss:  0.087 - Validation Loss:  0.642\n",
      "Epoch  30/60 Batch   40/77 - Loss:  0.086 - Validation Loss:  0.111\n",
      "Epoch  30/60 Batch   60/77 - Loss:  0.076 - Validation Loss:  0.076\n",
      "Epoch  31/60 Batch   20/77 - Loss:  0.045 - Validation Loss:  0.063\n",
      "Epoch  31/60 Batch   40/77 - Loss:  0.058 - Validation Loss:  0.063\n",
      "Epoch  31/60 Batch   60/77 - Loss:  0.061 - Validation Loss:  0.061\n",
      "Epoch  32/60 Batch   20/77 - Loss:  0.038 - Validation Loss:  0.055\n",
      "Epoch  32/60 Batch   40/77 - Loss:  0.052 - Validation Loss:  0.056\n",
      "Epoch  32/60 Batch   60/77 - Loss:  0.055 - Validation Loss:  0.055\n",
      "Epoch  33/60 Batch   20/77 - Loss:  0.034 - Validation Loss:  0.050\n",
      "Epoch  33/60 Batch   40/77 - Loss:  0.047 - Validation Loss:  0.051\n",
      "Epoch  33/60 Batch   60/77 - Loss:  0.051 - Validation Loss:  0.050\n",
      "Epoch  34/60 Batch   20/77 - Loss:  0.031 - Validation Loss:  0.046\n",
      "Epoch  34/60 Batch   40/77 - Loss:  0.043 - Validation Loss:  0.047\n",
      "Epoch  34/60 Batch   60/77 - Loss:  0.047 - Validation Loss:  0.046\n",
      "Epoch  35/60 Batch   20/77 - Loss:  0.029 - Validation Loss:  0.042\n",
      "Epoch  35/60 Batch   40/77 - Loss:  0.040 - Validation Loss:  0.043\n",
      "Epoch  35/60 Batch   60/77 - Loss:  0.043 - Validation Loss:  0.043\n",
      "Epoch  36/60 Batch   20/77 - Loss:  0.026 - Validation Loss:  0.039\n",
      "Epoch  36/60 Batch   40/77 - Loss:  0.037 - Validation Loss:  0.040\n",
      "Epoch  36/60 Batch   60/77 - Loss:  0.040 - Validation Loss:  0.039\n",
      "Epoch  37/60 Batch   20/77 - Loss:  0.024 - Validation Loss:  0.036\n",
      "Epoch  37/60 Batch   40/77 - Loss:  0.035 - Validation Loss:  0.037\n",
      "Epoch  37/60 Batch   60/77 - Loss:  0.037 - Validation Loss:  0.037\n",
      "Epoch  38/60 Batch   20/77 - Loss:  0.023 - Validation Loss:  0.034\n",
      "Epoch  38/60 Batch   40/77 - Loss:  0.032 - Validation Loss:  0.035\n",
      "Epoch  38/60 Batch   60/77 - Loss:  0.034 - Validation Loss:  0.034\n",
      "Epoch  39/60 Batch   20/77 - Loss:  0.021 - Validation Loss:  0.031\n",
      "Epoch  39/60 Batch   40/77 - Loss:  0.030 - Validation Loss:  0.032\n",
      "Epoch  39/60 Batch   60/77 - Loss:  0.032 - Validation Loss:  0.032\n",
      "Epoch  40/60 Batch   20/77 - Loss:  0.020 - Validation Loss:  0.029\n",
      "Epoch  40/60 Batch   40/77 - Loss:  0.028 - Validation Loss:  0.030\n",
      "Epoch  40/60 Batch   60/77 - Loss:  0.030 - Validation Loss:  0.030\n",
      "Epoch  41/60 Batch   20/77 - Loss:  0.018 - Validation Loss:  0.027\n"
     ]
    },
    {
     "name": "stdout",
     "output_type": "stream",
     "text": [
      "Epoch  41/60 Batch   40/77 - Loss:  0.026 - Validation Loss:  0.028\n",
      "Epoch  41/60 Batch   60/77 - Loss:  0.028 - Validation Loss:  0.028\n",
      "Epoch  42/60 Batch   20/77 - Loss:  0.017 - Validation Loss:  0.026\n",
      "Epoch  42/60 Batch   40/77 - Loss:  0.024 - Validation Loss:  0.026\n",
      "Epoch  42/60 Batch   60/77 - Loss:  0.026 - Validation Loss:  0.026\n",
      "Epoch  43/60 Batch   20/77 - Loss:  0.016 - Validation Loss:  0.024\n",
      "Epoch  43/60 Batch   40/77 - Loss:  0.022 - Validation Loss:  0.025\n",
      "Epoch  43/60 Batch   60/77 - Loss:  0.024 - Validation Loss:  0.025\n",
      "Epoch  44/60 Batch   20/77 - Loss:  0.015 - Validation Loss:  0.023\n",
      "Epoch  44/60 Batch   40/77 - Loss:  0.021 - Validation Loss:  0.023\n",
      "Epoch  44/60 Batch   60/77 - Loss:  0.022 - Validation Loss:  0.024\n",
      "Epoch  45/60 Batch   20/77 - Loss:  0.014 - Validation Loss:  0.021\n",
      "Epoch  45/60 Batch   40/77 - Loss:  0.020 - Validation Loss:  0.022\n",
      "Epoch  45/60 Batch   60/77 - Loss:  0.020 - Validation Loss:  0.022\n",
      "Epoch  46/60 Batch   20/77 - Loss:  0.013 - Validation Loss:  0.020\n",
      "Epoch  46/60 Batch   40/77 - Loss:  0.018 - Validation Loss:  0.021\n",
      "Epoch  46/60 Batch   60/77 - Loss:  0.019 - Validation Loss:  0.021\n",
      "Epoch  47/60 Batch   20/77 - Loss:  0.013 - Validation Loss:  0.019\n",
      "Epoch  47/60 Batch   40/77 - Loss:  0.017 - Validation Loss:  0.019\n",
      "Epoch  47/60 Batch   60/77 - Loss:  0.018 - Validation Loss:  0.020\n",
      "Epoch  48/60 Batch   20/77 - Loss:  0.012 - Validation Loss:  0.018\n",
      "Epoch  48/60 Batch   40/77 - Loss:  0.016 - Validation Loss:  0.018\n",
      "Epoch  48/60 Batch   60/77 - Loss:  0.016 - Validation Loss:  0.019\n",
      "Epoch  49/60 Batch   20/77 - Loss:  0.011 - Validation Loss:  0.017\n",
      "Epoch  49/60 Batch   40/77 - Loss:  0.015 - Validation Loss:  0.017\n",
      "Epoch  49/60 Batch   60/77 - Loss:  0.015 - Validation Loss:  0.018\n",
      "Epoch  50/60 Batch   20/77 - Loss:  0.010 - Validation Loss:  0.016\n",
      "Epoch  50/60 Batch   40/77 - Loss:  0.014 - Validation Loss:  0.016\n",
      "Epoch  50/60 Batch   60/77 - Loss:  0.014 - Validation Loss:  0.017\n",
      "Epoch  51/60 Batch   20/77 - Loss:  0.010 - Validation Loss:  0.015\n",
      "Epoch  51/60 Batch   40/77 - Loss:  0.013 - Validation Loss:  0.015\n",
      "Epoch  51/60 Batch   60/77 - Loss:  0.013 - Validation Loss:  0.016\n",
      "Epoch  52/60 Batch   20/77 - Loss:  0.009 - Validation Loss:  0.014\n",
      "Epoch  52/60 Batch   40/77 - Loss:  0.012 - Validation Loss:  0.014\n",
      "Epoch  52/60 Batch   60/77 - Loss:  0.012 - Validation Loss:  0.016\n",
      "Epoch  53/60 Batch   20/77 - Loss:  0.009 - Validation Loss:  0.014\n",
      "Epoch  53/60 Batch   40/77 - Loss:  0.011 - Validation Loss:  0.014\n",
      "Epoch  53/60 Batch   60/77 - Loss:  0.012 - Validation Loss:  0.015\n",
      "Epoch  54/60 Batch   20/77 - Loss:  0.008 - Validation Loss:  0.013\n",
      "Epoch  54/60 Batch   40/77 - Loss:  0.011 - Validation Loss:  0.013\n",
      "Epoch  54/60 Batch   60/77 - Loss:  0.011 - Validation Loss:  0.014\n",
      "Epoch  55/60 Batch   20/77 - Loss:  0.008 - Validation Loss:  0.012\n",
      "Epoch  55/60 Batch   40/77 - Loss:  0.010 - Validation Loss:  0.012\n",
      "Epoch  55/60 Batch   60/77 - Loss:  0.010 - Validation Loss:  0.013\n",
      "Epoch  56/60 Batch   20/77 - Loss:  0.007 - Validation Loss:  0.011\n",
      "Epoch  56/60 Batch   40/77 - Loss:  0.009 - Validation Loss:  0.012\n",
      "Epoch  56/60 Batch   60/77 - Loss:  0.009 - Validation Loss:  0.013\n",
      "Epoch  57/60 Batch   20/77 - Loss:  0.007 - Validation Loss:  0.011\n",
      "Epoch  57/60 Batch   40/77 - Loss:  0.009 - Validation Loss:  0.011\n",
      "Epoch  57/60 Batch   60/77 - Loss:  0.009 - Validation Loss:  0.012\n",
      "Epoch  58/60 Batch   20/77 - Loss:  0.006 - Validation Loss:  0.010\n",
      "Epoch  58/60 Batch   40/77 - Loss:  0.008 - Validation Loss:  0.011\n",
      "Epoch  58/60 Batch   60/77 - Loss:  0.008 - Validation Loss:  0.011\n",
      "Epoch  59/60 Batch   20/77 - Loss:  0.006 - Validation Loss:  0.010\n",
      "Epoch  59/60 Batch   40/77 - Loss:  0.008 - Validation Loss:  0.010\n",
      "Epoch  59/60 Batch   60/77 - Loss:  0.008 - Validation Loss:  0.011\n",
      "Epoch  60/60 Batch   20/77 - Loss:  0.006 - Validation Loss:  0.009\n",
      "Epoch  60/60 Batch   40/77 - Loss:  0.007 - Validation Loss:  0.010\n",
      "Epoch  60/60 Batch   60/77 - Loss:  0.007 - Validation Loss:  0.010\n",
      "Model Trained and Saved\n"
     ]
    }
   ],
   "source": [
    "# split data to training and validation sets\n",
    "import os\n",
    "save_path = 'checkpoints/'\n",
    "model_name = 'my_model'\n",
    "if not os.path.exists(save_path):\n",
    "    os.makedirs(save_path)\n",
    "train_source = source_letter_ids[batch_size:]\n",
    "train_target = target_letter_ids[batch_size:]\n",
    "valid_source = source_letter_ids[:batch_size]\n",
    "valid_target = target_letter_ids[:batch_size]\n",
    "(valid_targets_batch, valid_sources_batch, valid_targets_lengths, valid_sources_lengths) = next(get_batches(valid_target, valid_source, batch_size, source_letter_to_int['<PAD>'], target_letter_to_int['<PAD>']))\n",
    "\n",
    "display_step = 20 # check training loss after every 20 batches\n",
    "\n",
    "#checkpoint = 'best_model.ckpt'\n",
    "save_path_full = os.path.join(save_path, model_name)\n",
    "\n",
    "with tf.Session(graph=train_graph) as sess:\n",
    "    sess.run(tf.global_variables_initializer())\n",
    "    \n",
    "    for epoch_i in range(1, epochs+1):\n",
    "        for batch_i, (targets_batch, sources_batch, targets_lengths, sources_lengths) in enumerate(\n",
    "                get_batches(train_target, train_source, batch_size, source_letter_to_int['<PAD>'], target_letter_to_int['<PAD>'])):\n",
    "            \n",
    "            #training step\n",
    "            _, loss = sess.run([train_op, cost], {input_data: sources_batch,\n",
    "                                                 targets: targets_batch, \n",
    "                                                 lr: learning_rate, \n",
    "                                                 target_sequence_length: targets_lengths, \n",
    "                                                 source_sequence_length: sources_lengths})\n",
    "            \n",
    "            #debug message updating us on the status of the training \n",
    "            if batch_i % display_step == 0 and batch_i > 0:\n",
    "                \n",
    "                #calculate validation cost\n",
    "                validation_loss = sess.run([cost], {input_data: valid_sources_batch, \n",
    "                                                   targets: valid_targets_batch, \n",
    "                                                   lr: learning_rate, \n",
    "                                                   target_sequence_length: valid_targets_lengths, \n",
    "                                                   source_sequence_length: valid_sources_lengths})\n",
    "                \n",
    "                print('Epoch {:>3}/{} Batch {:>4}/{} - Loss: {:>6.3f} - Validation Loss: {:>6.3f}'.format(epoch_i, \n",
    "                                                                                                         epochs, \n",
    "                                                                                                         batch_i, \n",
    "                                                                                                         len(train_source) // batch_size, \n",
    "                                                                                                         loss, \n",
    "                                                                                                         validation_loss[0]))\n",
    "                \n",
    "    #save model\n",
    "    saver = tf.train.Saver()\n",
    "    saver.save(sess, save_path_full)\n",
    "    #saver.save(sess, checkpoint)\n",
    "    #saver.save(sess, os.path.join(os.getcwd(), checkpoint))\n",
    "    print('Model Trained and Saved') "
   ]
  },
  {
   "cell_type": "code",
   "execution_count": 24,
   "metadata": {
    "collapsed": true
   },
   "outputs": [],
   "source": [
    "# Prediction\n",
    "def source_to_seq(text):\n",
    "    #prepare the text for the model\n",
    "    sequence_length = 7\n",
    "    return [source_letter_to_int.get(word, source_letter_to_int['<UNK>']) for word in text] + [source_letter_to_int['<PAD>']]*(sequence_length-len(text))"
   ]
  },
  {
   "cell_type": "code",
   "execution_count": 28,
   "metadata": {},
   "outputs": [
    {
     "name": "stdout",
     "output_type": "stream",
     "text": [
      "INFO:tensorflow:Restoring parameters from checkpoints/my_model\n",
      "Original Text: exactly\n",
      "\n",
      "Source\n",
      "  Word Ids:    [8, 6, 11, 5, 15, 4, 25]\n",
      "  Input Words: e x a c t l y\n",
      "\n",
      "Target\n",
      "  Word Ids:       [11, 5, 8, 4, 15, 6, 25]\n",
      "  Response Words: a c e l t x y\n"
     ]
    }
   ],
   "source": [
    "input_sentence = 'exactly'\n",
    "text = source_to_seq(input_sentence)\n",
    "\n",
    "checkpoint = 'checkpoints/my_model'\n",
    "\n",
    "loaded_graph = tf.Graph()\n",
    "with tf.Session(graph=loaded_graph) as sess:\n",
    "    # load saved model\n",
    "    loader = tf.train.import_meta_graph(checkpoint + '.meta')\n",
    "    loader.restore(sess, checkpoint)\n",
    "    \n",
    "    input_data = loaded_graph.get_tensor_by_name('input:0')\n",
    "    logits = loaded_graph.get_tensor_by_name('predictions:0')\n",
    "    source_sequence_length = loaded_graph.get_tensor_by_name('source_sequence_length:0')\n",
    "    target_sequence_length = loaded_graph.get_tensor_by_name('target_sequence_length:0')\n",
    "    \n",
    "    #multiply by batch_size to match the model's input parameters\n",
    "    answer_logits = sess.run(logits, {input_data: [text]*batch_size, \n",
    "                                     target_sequence_length: [len(text)]*batch_size, \n",
    "                                     source_sequence_length: [len(text)]*batch_size})[0]\n",
    "    \n",
    "pad = source_letter_to_int['<PAD>']\n",
    "\n",
    "print('Original Text:', input_sentence)\n",
    "\n",
    "print('\\nSource')\n",
    "print('  Word Ids:    {}'.format([i for i in text]))\n",
    "print('  Input Words: {}'.format(' '.join([source_int_to_letter[i] for i in text])))\n",
    "\n",
    "print('\\nTarget')\n",
    "print('  Word Ids:       {}'.format([i for i in answer_logits if i != pad]))\n",
    "print('  Response Words: {}'.format(' '.join([target_int_to_letter[i] for i in answer_logits if i != pad])))"
   ]
  },
  {
   "cell_type": "code",
   "execution_count": null,
   "metadata": {
    "collapsed": true
   },
   "outputs": [],
   "source": []
  },
  {
   "cell_type": "code",
   "execution_count": null,
   "metadata": {
    "collapsed": true
   },
   "outputs": [],
   "source": []
  },
  {
   "cell_type": "code",
   "execution_count": null,
   "metadata": {
    "collapsed": true
   },
   "outputs": [],
   "source": []
  },
  {
   "cell_type": "code",
   "execution_count": null,
   "metadata": {
    "collapsed": true
   },
   "outputs": [],
   "source": []
  }
 ],
 "metadata": {
  "kernelspec": {
   "display_name": "Python 3",
   "language": "python",
   "name": "python3"
  },
  "language_info": {
   "codemirror_mode": {
    "name": "ipython",
    "version": 3
   },
   "file_extension": ".py",
   "mimetype": "text/x-python",
   "name": "python",
   "nbconvert_exporter": "python",
   "pygments_lexer": "ipython3",
   "version": "3.5.3"
  }
 },
 "nbformat": 4,
 "nbformat_minor": 2
}
